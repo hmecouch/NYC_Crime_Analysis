{
 "cells": [
  {
   "cell_type": "code",
   "execution_count": 1,
   "id": "af34ca65",
   "metadata": {},
   "outputs": [],
   "source": [
    "# load in dependencies\n",
    "import pandas as pd\n",
    "import numpy as np\n",
    "import matplotlib.pyplot as plt\n",
    "import seaborn as sns\n",
    "from sklearn.model_selection import train_test_split\n",
    "from sklearn.preprocessing import LabelEncoder\n",
    "from sklearn.ensemble import RandomForestClassifier\n",
    "from sklearn.metrics import accuracy_score, confusion_matrix"
   ]
  },
  {
   "cell_type": "code",
   "execution_count": 2,
   "id": "135d67fa",
   "metadata": {},
   "outputs": [
    {
     "data": {
      "text/html": [
       "<div>\n",
       "<style scoped>\n",
       "    .dataframe tbody tr th:only-of-type {\n",
       "        vertical-align: middle;\n",
       "    }\n",
       "\n",
       "    .dataframe tbody tr th {\n",
       "        vertical-align: top;\n",
       "    }\n",
       "\n",
       "    .dataframe thead th {\n",
       "        text-align: right;\n",
       "    }\n",
       "</style>\n",
       "<table border=\"1\" class=\"dataframe\">\n",
       "  <thead>\n",
       "    <tr style=\"text-align: right;\">\n",
       "      <th></th>\n",
       "      <th>ARREST_KEY</th>\n",
       "      <th>ARREST_DATE</th>\n",
       "      <th>day</th>\n",
       "      <th>month</th>\n",
       "      <th>year</th>\n",
       "      <th>PD_DESC</th>\n",
       "      <th>OFNS_DESC</th>\n",
       "      <th>LAW_CAT_CD</th>\n",
       "      <th>ARREST_BORO</th>\n",
       "      <th>ARREST_PRECINCT</th>\n",
       "      <th>JURISDICTION_CODE</th>\n",
       "      <th>AGE_GROUP</th>\n",
       "      <th>PERP_SEX</th>\n",
       "      <th>PERP_RACE</th>\n",
       "      <th>Latitude</th>\n",
       "      <th>Longitude</th>\n",
       "      <th>Lon_Lat</th>\n",
       "    </tr>\n",
       "  </thead>\n",
       "  <tbody>\n",
       "    <tr>\n",
       "      <th>0</th>\n",
       "      <td>159838726</td>\n",
       "      <td>2017-01-01</td>\n",
       "      <td>1</td>\n",
       "      <td>1</td>\n",
       "      <td>2017</td>\n",
       "      <td>RECKLESS ENDANGERMENT 2</td>\n",
       "      <td>OFFENSES AGAINST THE PERSON</td>\n",
       "      <td>M</td>\n",
       "      <td>M</td>\n",
       "      <td>14</td>\n",
       "      <td>0</td>\n",
       "      <td>18-24</td>\n",
       "      <td>M</td>\n",
       "      <td>WHITE</td>\n",
       "      <td>40.750350</td>\n",
       "      <td>-73.983175</td>\n",
       "      <td>POINT (-73.98317545899994 40.750350440000034)</td>\n",
       "    </tr>\n",
       "    <tr>\n",
       "      <th>1</th>\n",
       "      <td>159824786</td>\n",
       "      <td>2017-01-01</td>\n",
       "      <td>1</td>\n",
       "      <td>1</td>\n",
       "      <td>2017</td>\n",
       "      <td>ASSAULT 3</td>\n",
       "      <td>ASSAULT 3 &amp; RELATED OFFENSES</td>\n",
       "      <td>M</td>\n",
       "      <td>M</td>\n",
       "      <td>18</td>\n",
       "      <td>0</td>\n",
       "      <td>25-44</td>\n",
       "      <td>M</td>\n",
       "      <td>WHITE</td>\n",
       "      <td>40.762971</td>\n",
       "      <td>-73.971870</td>\n",
       "      <td>POINT (-73.97186979099996 40.76297132000008)</td>\n",
       "    </tr>\n",
       "    <tr>\n",
       "      <th>2</th>\n",
       "      <td>159840237</td>\n",
       "      <td>2017-01-01</td>\n",
       "      <td>1</td>\n",
       "      <td>1</td>\n",
       "      <td>2017</td>\n",
       "      <td>FORGERY,ETC.,UNCLASSIFIED-FELONY</td>\n",
       "      <td>FORGERY</td>\n",
       "      <td>F</td>\n",
       "      <td>B</td>\n",
       "      <td>40</td>\n",
       "      <td>0</td>\n",
       "      <td>25-44</td>\n",
       "      <td>M</td>\n",
       "      <td>WHITE HISPANIC</td>\n",
       "      <td>40.807919</td>\n",
       "      <td>-73.919017</td>\n",
       "      <td>POINT (-73.91901728199997 40.80791877300004)</td>\n",
       "    </tr>\n",
       "    <tr>\n",
       "      <th>3</th>\n",
       "      <td>159828861</td>\n",
       "      <td>2017-01-01</td>\n",
       "      <td>1</td>\n",
       "      <td>1</td>\n",
       "      <td>2017</td>\n",
       "      <td>BAIL JUMPING 3</td>\n",
       "      <td>OFFENSES AGAINST PUBLIC ADMINISTRATION</td>\n",
       "      <td>M</td>\n",
       "      <td>K</td>\n",
       "      <td>67</td>\n",
       "      <td>0</td>\n",
       "      <td>25-44</td>\n",
       "      <td>M</td>\n",
       "      <td>BLACK</td>\n",
       "      <td>40.650740</td>\n",
       "      <td>-73.910667</td>\n",
       "      <td>POINT (-73.91066707899995 40.650739599000076)</td>\n",
       "    </tr>\n",
       "    <tr>\n",
       "      <th>4</th>\n",
       "      <td>159834533</td>\n",
       "      <td>2017-01-01</td>\n",
       "      <td>1</td>\n",
       "      <td>1</td>\n",
       "      <td>2017</td>\n",
       "      <td>TRESPASS 3, CRIMINAL</td>\n",
       "      <td>CRIMINAL TRESPASS</td>\n",
       "      <td>M</td>\n",
       "      <td>K</td>\n",
       "      <td>60</td>\n",
       "      <td>0</td>\n",
       "      <td>18-24</td>\n",
       "      <td>M</td>\n",
       "      <td>BLACK</td>\n",
       "      <td>40.573763</td>\n",
       "      <td>-73.992878</td>\n",
       "      <td>POINT (-73.99287775699997 40.573763375000055)</td>\n",
       "    </tr>\n",
       "  </tbody>\n",
       "</table>\n",
       "</div>"
      ],
      "text/plain": [
       "   ARREST_KEY ARREST_DATE  day  month  year                           PD_DESC  \\\n",
       "0   159838726  2017-01-01    1      1  2017           RECKLESS ENDANGERMENT 2   \n",
       "1   159824786  2017-01-01    1      1  2017                         ASSAULT 3   \n",
       "2   159840237  2017-01-01    1      1  2017  FORGERY,ETC.,UNCLASSIFIED-FELONY   \n",
       "3   159828861  2017-01-01    1      1  2017                    BAIL JUMPING 3   \n",
       "4   159834533  2017-01-01    1      1  2017              TRESPASS 3, CRIMINAL   \n",
       "\n",
       "                                OFNS_DESC LAW_CAT_CD ARREST_BORO  \\\n",
       "0             OFFENSES AGAINST THE PERSON          M           M   \n",
       "1            ASSAULT 3 & RELATED OFFENSES          M           M   \n",
       "2                                 FORGERY          F           B   \n",
       "3  OFFENSES AGAINST PUBLIC ADMINISTRATION          M           K   \n",
       "4                       CRIMINAL TRESPASS          M           K   \n",
       "\n",
       "   ARREST_PRECINCT  JURISDICTION_CODE AGE_GROUP PERP_SEX       PERP_RACE  \\\n",
       "0               14                  0     18-24        M           WHITE   \n",
       "1               18                  0     25-44        M           WHITE   \n",
       "2               40                  0     25-44        M  WHITE HISPANIC   \n",
       "3               67                  0     25-44        M           BLACK   \n",
       "4               60                  0     18-24        M           BLACK   \n",
       "\n",
       "    Latitude  Longitude                                        Lon_Lat  \n",
       "0  40.750350 -73.983175  POINT (-73.98317545899994 40.750350440000034)  \n",
       "1  40.762971 -73.971870   POINT (-73.97186979099996 40.76297132000008)  \n",
       "2  40.807919 -73.919017   POINT (-73.91901728199997 40.80791877300004)  \n",
       "3  40.650740 -73.910667  POINT (-73.91066707899995 40.650739599000076)  \n",
       "4  40.573763 -73.992878  POINT (-73.99287775699997 40.573763375000055)  "
      ]
     },
     "execution_count": 2,
     "metadata": {},
     "output_type": "execute_result"
    }
   ],
   "source": [
    "# read cleaned csv file into a df\n",
    "df = pd.read_csv('Data/fm_arrest.csv')\n",
    "\n",
    "df.head()"
   ]
  },
  {
   "cell_type": "code",
   "execution_count": 3,
   "id": "557168eb",
   "metadata": {},
   "outputs": [],
   "source": [
    "# drop unnecessary columns\n",
    "df.drop(['ARREST_KEY', 'ARREST_DATE', 'month', 'day', 'year', 'PD_DESC', 'OFNS_DESC', 'ARREST_PRECINCT', 'JURISDICTION_CODE', 'Latitude', \n",
    "         'Longitude', 'Lon_Lat'], axis=1, inplace=True)"
   ]
  },
  {
   "cell_type": "code",
   "execution_count": 4,
   "id": "5e2fe9be",
   "metadata": {},
   "outputs": [
    {
     "data": {
      "text/html": [
       "<div>\n",
       "<style scoped>\n",
       "    .dataframe tbody tr th:only-of-type {\n",
       "        vertical-align: middle;\n",
       "    }\n",
       "\n",
       "    .dataframe tbody tr th {\n",
       "        vertical-align: top;\n",
       "    }\n",
       "\n",
       "    .dataframe thead th {\n",
       "        text-align: right;\n",
       "    }\n",
       "</style>\n",
       "<table border=\"1\" class=\"dataframe\">\n",
       "  <thead>\n",
       "    <tr style=\"text-align: right;\">\n",
       "      <th></th>\n",
       "      <th>LAW_CAT_CD</th>\n",
       "      <th>ARREST_BORO</th>\n",
       "      <th>AGE_GROUP</th>\n",
       "      <th>PERP_SEX</th>\n",
       "      <th>PERP_RACE</th>\n",
       "    </tr>\n",
       "  </thead>\n",
       "  <tbody>\n",
       "    <tr>\n",
       "      <th>0</th>\n",
       "      <td>M</td>\n",
       "      <td>M</td>\n",
       "      <td>18-24</td>\n",
       "      <td>M</td>\n",
       "      <td>WHITE</td>\n",
       "    </tr>\n",
       "    <tr>\n",
       "      <th>1</th>\n",
       "      <td>M</td>\n",
       "      <td>M</td>\n",
       "      <td>25-44</td>\n",
       "      <td>M</td>\n",
       "      <td>WHITE</td>\n",
       "    </tr>\n",
       "    <tr>\n",
       "      <th>2</th>\n",
       "      <td>F</td>\n",
       "      <td>B</td>\n",
       "      <td>25-44</td>\n",
       "      <td>M</td>\n",
       "      <td>WHITE HISPANIC</td>\n",
       "    </tr>\n",
       "    <tr>\n",
       "      <th>3</th>\n",
       "      <td>M</td>\n",
       "      <td>K</td>\n",
       "      <td>25-44</td>\n",
       "      <td>M</td>\n",
       "      <td>BLACK</td>\n",
       "    </tr>\n",
       "    <tr>\n",
       "      <th>4</th>\n",
       "      <td>M</td>\n",
       "      <td>K</td>\n",
       "      <td>18-24</td>\n",
       "      <td>M</td>\n",
       "      <td>BLACK</td>\n",
       "    </tr>\n",
       "  </tbody>\n",
       "</table>\n",
       "</div>"
      ],
      "text/plain": [
       "  LAW_CAT_CD ARREST_BORO AGE_GROUP PERP_SEX       PERP_RACE\n",
       "0          M           M     18-24        M           WHITE\n",
       "1          M           M     25-44        M           WHITE\n",
       "2          F           B     25-44        M  WHITE HISPANIC\n",
       "3          M           K     25-44        M           BLACK\n",
       "4          M           K     18-24        M           BLACK"
      ]
     },
     "execution_count": 4,
     "metadata": {},
     "output_type": "execute_result"
    }
   ],
   "source": [
    "df.head()"
   ]
  },
  {
   "cell_type": "code",
   "execution_count": 5,
   "id": "a0ce200a",
   "metadata": {},
   "outputs": [
    {
     "name": "stdout",
     "output_type": "stream",
     "text": [
      "M    622748\n",
      "F    393711\n",
      "Name: LAW_CAT_CD, dtype: int64\n"
     ]
    },
    {
     "data": {
      "image/png": "[encoded data removed]",
      "text/plain": [
       "<Figure size 640x480 with 1 Axes>"
      ]
     },
     "metadata": {},
     "output_type": "display_data"
    }
   ],
   "source": [
    "# Check the distribution of the target variable\n",
    "print(df['LAW_CAT_CD'].value_counts())\n",
    "\n",
    "# Plot the distribution of the target variable\n",
    "sns.countplot(x='LAW_CAT_CD', data=df)\n",
    "plt.show()"
   ]
  },
  {
   "cell_type": "code",
   "execution_count": 6,
   "id": "aea855db",
   "metadata": {},
   "outputs": [],
   "source": [
    "# Encode categorical variables\n",
    "le = LabelEncoder()\n",
    "df['ARREST_BORO'] = le.fit_transform(df['ARREST_BORO'])\n",
    "df['LAW_CAT_CD'] = le.fit_transform(df['LAW_CAT_CD'])\n",
    "df['AGE_GROUP'] = le.fit_transform(df['AGE_GROUP'])\n",
    "df['PERP_SEX'] = le.fit_transform(df['PERP_SEX'])\n",
    "df['PERP_RACE'] = le.fit_transform(df['PERP_RACE'])"
   ]
  },
  {
   "cell_type": "code",
   "execution_count": 7,
   "id": "5e120ed9",
   "metadata": {},
   "outputs": [
    {
     "name": "stdout",
     "output_type": "stream",
     "text": [
      "1    622748\n",
      "0    393711\n",
      "Name: LAW_CAT_CD, dtype: int64\n"
     ]
    }
   ],
   "source": [
    "# Check the distribution of the target variable again\n",
    "print(df['LAW_CAT_CD'].value_counts())"
   ]
  },
  {
   "cell_type": "code",
   "execution_count": 8,
   "id": "d8b2eca4",
   "metadata": {},
   "outputs": [],
   "source": [
    "# Split the data into training and testing sets\n",
    "X = df.drop('LAW_CAT_CD', axis=1)\n",
    "y = df['LAW_CAT_CD']\n",
    "X_train, X_test, y_train, y_test = train_test_split(X, y, test_size=0.2, random_state=42)\n"
   ]
  },
  {
   "cell_type": "code",
   "execution_count": 9,
   "id": "442444f5",
   "metadata": {},
   "outputs": [
    {
     "data": {
      "text/plain": [
       "RandomForestClassifier(random_state=42)"
      ]
     },
     "execution_count": 9,
     "metadata": {},
     "output_type": "execute_result"
    }
   ],
   "source": [
    "# Train a random forest classifier on the training data\n",
    "clf = RandomForestClassifier(random_state=42)\n",
    "clf.fit(X_train, y_train)"
   ]
  },
  {
   "cell_type": "code",
   "execution_count": 10,
   "id": "d964bd6b",
   "metadata": {},
   "outputs": [],
   "source": [
    "# Use the trained model to make predictions on the testing set\n",
    "y_pred = clf.predict(X_test)"
   ]
  },
  {
   "cell_type": "code",
   "execution_count": 11,
   "id": "c6c12af9",
   "metadata": {},
   "outputs": [
    {
     "name": "stdout",
     "output_type": "stream",
     "text": [
      "Accuracy: 0.6197686087007851\n",
      "[[  7092  71608]\n",
      " [  5690 118902]]\n"
     ]
    },
    {
     "data": {
      "image/png": "[encoded data removed]",
      "text/plain": [
       "<Figure size 640x480 with 2 Axes>"
      ]
     },
     "metadata": {},
     "output_type": "display_data"
    }
   ],
   "source": [
    "# Check the accuracy of the model\n",
    "accuracy = accuracy_score(y_test, y_pred)\n",
    "print('Accuracy:', accuracy)\n",
    "\n",
    "# Plot a confusion matrix to visualize the performance of the model\n",
    "cm = confusion_matrix(y_test, y_pred)\n",
    "print(cm)\n",
    "sns.heatmap(cm, annot=True, fmt='d', cmap='Blues')\n",
    "plt.show()"
   ]
  },
  {
   "cell_type": "code",
   "execution_count": null,
   "id": "ccc41fc0",
   "metadata": {},
   "outputs": [],
   "source": []
  },
  {
   "cell_type": "code",
   "execution_count": null,
   "id": "a5ad213f",
   "metadata": {},
   "outputs": [],
   "source": []
  }
 ],
 "metadata": {
  "kernelspec": {
   "display_name": "mlenv",
   "language": "python",
   "name": "mlenv"
  },
  "language_info": {
   "codemirror_mode": {
    "name": "ipython",
    "version": 3
   },
   "file_extension": ".py",
   "mimetype": "text/x-python",
   "name": "python",
   "nbconvert_exporter": "python",
   "pygments_lexer": "ipython3",
   "version": "3.7.13"
  }
 },
 "nbformat": 4,
 "nbformat_minor": 5
}
